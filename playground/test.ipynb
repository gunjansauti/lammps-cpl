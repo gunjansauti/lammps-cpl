{
 "cells": [
  {
   "cell_type": "code",
   "execution_count": 1,
   "metadata": {
    "ExecuteTime": {
     "end_time": "2020-03-03T11:08:47.399017Z",
     "start_time": "2020-03-03T11:08:46.996873Z"
    }
   },
   "outputs": [
    {
     "name": "stdout",
     "output_type": "stream",
     "text": [
      "Populating the interactive namespace from numpy and matplotlib\n"
     ]
    }
   ],
   "source": [
    "%pylab inline"
   ]
  },
  {
   "cell_type": "code",
   "execution_count": 1,
   "metadata": {
    "ExecuteTime": {
     "end_time": "2020-03-03T11:40:39.044813Z",
     "start_time": "2020-03-03T11:40:38.709291Z"
    }
   },
   "outputs": [],
   "source": [
    "from ase.atoms import Atoms\n",
    "from ase.build import bulk\n",
    "from ase.io import write\n",
    "\n",
    "from ase.io.lammpsdata import write_lammps_data"
   ]
  },
  {
   "cell_type": "code",
   "execution_count": 2,
   "metadata": {
    "ExecuteTime": {
     "end_time": "2020-03-03T11:40:39.079902Z",
     "start_time": "2020-03-03T11:40:39.052093Z"
    }
   },
   "outputs": [
    {
     "data": {
      "text/plain": [
       "Atoms(symbols='Al2', pbc=False, cell=[15.0, 15.0, 15.0])"
      ]
     },
     "execution_count": 2,
     "metadata": {},
     "output_type": "execute_result"
    }
   ],
   "source": [
    "dimer = Atoms(symbols=[\"Al\",\"Al\"], positions=[[0,0,0], [0,0,1]], cell=[15,15,15], pbc=False)\n",
    "dimer"
   ]
  },
  {
   "cell_type": "code",
   "execution_count": 3,
   "metadata": {
    "ExecuteTime": {
     "end_time": "2020-03-03T11:40:39.268288Z",
     "start_time": "2020-03-03T11:40:39.256381Z"
    }
   },
   "outputs": [],
   "source": [
    "with open(\"dimer.dat\",\"wb\") as f:\n",
    "    write_lammps_data(f, dimer)"
   ]
  },
  {
   "cell_type": "code",
   "execution_count": null,
   "metadata": {},
   "outputs": [],
   "source": []
  },
  {
   "cell_type": "code",
   "execution_count": 4,
   "metadata": {
    "ExecuteTime": {
     "end_time": "2020-03-03T11:40:39.797580Z",
     "start_time": "2020-03-03T11:40:39.786846Z"
    }
   },
   "outputs": [
    {
     "data": {
      "text/plain": [
       "Atoms(symbols='Al', pbc=True, cell=[[0.0, 2.025, 2.025], [2.025, 0.0, 2.025], [2.025, 2.025, 0.0]])"
      ]
     },
     "execution_count": 4,
     "metadata": {},
     "output_type": "execute_result"
    }
   ],
   "source": [
    "fcc = bulk(\"Al\",\"fcc\")\n",
    "fcc"
   ]
  },
  {
   "cell_type": "code",
   "execution_count": 5,
   "metadata": {
    "ExecuteTime": {
     "end_time": "2020-03-03T11:40:40.175953Z",
     "start_time": "2020-03-03T11:40:40.167362Z"
    }
   },
   "outputs": [],
   "source": [
    "with open(\"fcc.dat\",\"wb\") as f:\n",
    "    write_lammps_data(f, fcc)"
   ]
  },
  {
   "cell_type": "markdown",
   "metadata": {},
   "source": [
    "# LAMMPS ASE calculator"
   ]
  },
  {
   "cell_type": "code",
   "execution_count": 6,
   "metadata": {
    "ExecuteTime": {
     "end_time": "2020-03-03T11:40:41.149487Z",
     "start_time": "2020-03-03T11:40:41.005639Z"
    }
   },
   "outputs": [
    {
     "name": "stdout",
     "output_type": "stream",
     "text": [
      "Al.pbe.in-rank6.ace dimer.dat           in.ace              \u001b[34mtmp\u001b[m\u001b[m\r\n",
      "Untitled.ipynb      fcc.dat             log.lammps\r\n"
     ]
    }
   ],
   "source": [
    "! ls"
   ]
  },
  {
   "cell_type": "code",
   "execution_count": 7,
   "metadata": {
    "ExecuteTime": {
     "end_time": "2020-03-03T11:40:41.632910Z",
     "start_time": "2020-03-03T11:40:41.620061Z"
    }
   },
   "outputs": [],
   "source": [
    "from ase.calculators.lammpsrun import  LAMMPS\n",
    "\n",
    "import os"
   ]
  },
  {
   "cell_type": "code",
   "execution_count": 8,
   "metadata": {
    "ExecuteTime": {
     "end_time": "2020-03-03T11:40:42.152177Z",
     "start_time": "2020-03-03T11:40:42.144726Z"
    }
   },
   "outputs": [],
   "source": [
    "os.environ[\"ASE_LAMMPSRUN_COMMAND\"]=\"/Users/lysogy36/CLionProjects/lammps-ace/cmake/cmake-build-debug/lmp\""
   ]
  },
  {
   "cell_type": "code",
   "execution_count": 9,
   "metadata": {
    "ExecuteTime": {
     "end_time": "2020-03-03T11:40:42.534220Z",
     "start_time": "2020-03-03T11:40:42.527889Z"
    }
   },
   "outputs": [],
   "source": [
    "parameters = {'pair_style': 'pace',\n",
    "          'pair_coeff': ['* * Al.pbe.in-rank6.ace Al']}\n",
    "\n",
    "files = ['/Users/lysogy36/CLionProjects/lammps-ace/playground/Al.pbe.in-rank6.ace']"
   ]
  },
  {
   "cell_type": "code",
   "execution_count": 10,
   "metadata": {
    "ExecuteTime": {
     "end_time": "2020-03-03T11:40:43.198186Z",
     "start_time": "2020-03-03T11:40:42.942296Z"
    }
   },
   "outputs": [
    {
     "name": "stderr",
     "output_type": "stream",
     "text": [
      "/Users/lysogy36/.local/lib/python3.5/site-packages/ase-3.19.0b1-py3.5.egg/ase/calculators/lammpsrun.py:189: UserWarning: You are using an old syntax to set 'parameters'.\n",
      "Please use LAMMPSRUN.set().\n",
      "  warnings.warn(self.legacy_warn_string.format(\"parameters\"))\n"
     ]
    }
   ],
   "source": [
    "lammps = LAMMPS(parameters=parameters, files=files,always_triclinic=False,\n",
    "                tmp_dir=\"/Users/lysogy36/CLionProjects/lammps-ace/playground/tmp\", keep_tmp_files=True)"
   ]
  },
  {
   "cell_type": "code",
   "execution_count": 11,
   "metadata": {
    "ExecuteTime": {
     "end_time": "2020-03-03T11:40:43.534833Z",
     "start_time": "2020-03-03T11:40:43.529684Z"
    }
   },
   "outputs": [],
   "source": [
    "fcc.set_calculator(lammps)"
   ]
  },
  {
   "cell_type": "code",
   "execution_count": 12,
   "metadata": {
    "ExecuteTime": {
     "end_time": "2020-03-03T11:40:44.214260Z",
     "start_time": "2020-03-03T11:40:44.085708Z"
    }
   },
   "outputs": [
    {
     "data": {
      "text/plain": [
       "682.7087724960413"
      ]
     },
     "execution_count": 12,
     "metadata": {},
     "output_type": "execute_result"
    }
   ],
   "source": [
    "fcc.get_potential_energy()"
   ]
  },
  {
   "cell_type": "code",
   "execution_count": null,
   "metadata": {},
   "outputs": [],
   "source": []
  }
 ],
 "metadata": {
  "kernelspec": {
   "display_name": "Python (structure_database)",
   "language": "python",
   "name": "structure_database"
  },
  "language_info": {
   "codemirror_mode": {
    "name": "ipython",
    "version": 3
   },
   "file_extension": ".py",
   "mimetype": "text/x-python",
   "name": "python",
   "nbconvert_exporter": "python",
   "pygments_lexer": "ipython3",
   "version": "3.5.6"
  }
 },
 "nbformat": 4,
 "nbformat_minor": 2
}
